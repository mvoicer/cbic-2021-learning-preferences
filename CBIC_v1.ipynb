{
  "nbformat": 4,
  "nbformat_minor": 0,
  "metadata": {
    "colab": {
      "name": "CBIC_teste.ipynb",
      "provenance": [],
      "collapsed_sections": [
        "z8BjHCFvuvX-",
        "snje4IXUvI_G"
      ],
      "include_colab_link": true
    },
    "kernelspec": {
      "display_name": "Python 3",
      "name": "python3"
    }
  },
  "cells": [
    {
      "cell_type": "markdown",
      "metadata": {
        "id": "view-in-github",
        "colab_type": "text"
      },
      "source": [
        "<a href=\"https://colab.research.google.com/github/mvoicer/cbic-2021-learning-preferences/blob/main/CBIC_v1.ipynb\" target=\"_parent\"><img src=\"https://colab.research.google.com/assets/colab-badge.svg\" alt=\"Open In Colab\"/></a>"
      ]
    },
    {
      "cell_type": "markdown",
      "metadata": {
        "id": "pTZzaXZVW7Bh"
      },
      "source": [
        "# Libraries"
      ]
    },
    {
      "cell_type": "code",
      "metadata": {
        "id": "v95ifRoYIMTI"
      },
      "source": [
        "import warnings\n",
        "warnings.filterwarnings(\"ignore\")"
      ],
      "execution_count": 1,
      "outputs": []
    },
    {
      "cell_type": "code",
      "metadata": {
        "id": "F3U2MxK7WrKm"
      },
      "source": [
        "import numpy as np\n",
        "import pandas as pd\n",
        "import random\n",
        "import os \n",
        "import sys\n",
        "import seaborn as sns\n",
        "import pickle\n",
        "import scipy.stats as stats\n",
        "\n",
        "from scipy.spatial.distance import cdist\n",
        "from sklearn.model_selection import train_test_split\n",
        "from sklearn.ensemble import GradientBoostingRegressor\n",
        "from sklearn.multioutput import MultiOutputRegressor\n",
        "from sklearn.model_selection import RandomizedSearchCV\n",
        "from sklearn.metrics import *\n",
        "from tqdm import tqdm\n",
        "from matplotlib import pyplot as plt"
      ],
      "execution_count": 2,
      "outputs": []
    },
    {
      "cell_type": "markdown",
      "metadata": {
        "id": "IoFJlQCLXAvx"
      },
      "source": [
        "# Directory"
      ]
    },
    {
      "cell_type": "code",
      "metadata": {
        "colab": {
          "base_uri": "https://localhost:8080/"
        },
        "id": "BwU6hRnVW_L1",
        "outputId": "f975e218-f3f8-4ef9-cb18-f6e7070af4d1"
      },
      "source": [
        "from google.colab import drive\n",
        "drive.mount(\"/content/drive\") "
      ],
      "execution_count": 3,
      "outputs": [
        {
          "output_type": "stream",
          "name": "stdout",
          "text": [
            "Drive already mounted at /content/drive; to attempt to forcibly remount, call drive.mount(\"/content/drive\", force_remount=True).\n"
          ]
        }
      ]
    },
    {
      "cell_type": "code",
      "metadata": {
        "id": "yfR9ytY4XESP",
        "colab": {
          "base_uri": "https://localhost:8080/"
        },
        "outputId": "36f401f0-1af5-49a0-bbf2-d9860a195614"
      },
      "source": [
        "# Set the new directory\n",
        "os.chdir('/content/drive/My Drive/aa_UFMG/Doutorado/Experimentos GPD/LearningDM/')\n",
        "\n",
        "print(\"Current directory {}\".format(os.getcwd()))"
      ],
      "execution_count": 4,
      "outputs": [
        {
          "output_type": "stream",
          "name": "stdout",
          "text": [
            "Current directory /content/drive/My Drive/aa_UFMG/Doutorado/Experimentos GPD/LearningDM\n"
          ]
        }
      ]
    },
    {
      "cell_type": "markdown",
      "metadata": {
        "id": "EEnOk6MP_2q5"
      },
      "source": [
        "# Dataset"
      ]
    },
    {
      "cell_type": "markdown",
      "metadata": {
        "id": "ArisL2uf3FLD"
      },
      "source": [
        "Variables"
      ]
    },
    {
      "cell_type": "code",
      "metadata": {
        "id": "IBEQ35UB2sXM"
      },
      "source": [
        "len_Q = 2                   # n_samples to be evaluated\n",
        "CV = 2                      # number of cross-validation\n",
        "test_size = 0.2             # 80% train and 20% test\n",
        "accepted_error = .05        # max tau distance accepted between current ranking and the predicted one"
      ],
      "execution_count": 5,
      "outputs": []
    },
    {
      "cell_type": "markdown",
      "metadata": {
        "id": "G_xgWeEw3G0c"
      },
      "source": [
        "Dataset"
      ]
    },
    {
      "cell_type": "code",
      "metadata": {
        "id": "XqadhHnB2sfp"
      },
      "source": [
        "# Decision variables\n",
        "df_var = pd.read_csv(\"Data/NSGAIII_GPD03_M2_DEC.CSV\", header=None)      # decision variables\n",
        "df_var = df_var.iloc[0:20]\n",
        "df_obj = pd.read_csv('Data/NSGAIII_GPD03_M2_OBJ.CSV', header=None)      # values in Pareto front\n",
        "df_obj = df_obj.iloc[0:20]\n",
        "\n",
        "npop, nvar = df_var.shape\n",
        "nobj = df_obj.shape[1]"
      ],
      "execution_count": 6,
      "outputs": []
    },
    {
      "cell_type": "markdown",
      "metadata": {
        "id": "z8BjHCFvuvX-"
      },
      "source": [
        "# Functions"
      ]
    },
    {
      "cell_type": "markdown",
      "metadata": {
        "id": "snje4IXUvI_G"
      },
      "source": [
        "## Preference functions"
      ]
    },
    {
      "cell_type": "code",
      "metadata": {
        "id": "jo_PIlOiu3jW"
      },
      "source": [
        "# Define Saaty's 1-9 Scale for AHP Preference\n",
        "def matrix_intervalos(A):\n",
        "    max_A = np.max(A, axis=0)\n",
        "    min_A = np.min(A, axis=0)\n",
        "    I = np.zeros(shape=(10, len(max_A)))\n",
        "    for i, (menor, maior) in enumerate(zip(min_A, max_A)):\n",
        "        intervalos = np.linspace(menor, maior, 10)\n",
        "        I[:, i] = intervalos.ravel()\n",
        "    return I"
      ],
      "execution_count": 7,
      "outputs": []
    },
    {
      "cell_type": "code",
      "metadata": {
        "id": "WLNwFl2Mu4Vl"
      },
      "source": [
        "# Calculate the differences among the nominal values of the objectives\n",
        "def my_cdist(df_obj):\n",
        "  n_row = df_obj.shape[0]\n",
        "  m1 = np.tile(df_obj, (n_row, 1))\n",
        "  m2 = np.tile(df_obj.reshape(-1, 1), (1, n_row))\n",
        "  return m2 - m1"
      ],
      "execution_count": 8,
      "outputs": []
    },
    {
      "cell_type": "code",
      "metadata": {
        "id": "zc5k3b-au4YW"
      },
      "source": [
        "# Calculate the preferences\n",
        "def preferencia(df_dif, interval):\n",
        "\n",
        "    df_pref = np.ones(shape = df_dif.shape)\n",
        "\n",
        "    it = np.nditer(df_dif, flags=['multi_index'])\n",
        "\n",
        "    for x in it:\n",
        "        for j, _ in enumerate(interval):\n",
        "            if j == len(interval):\n",
        "                df_pref[it.multi_index] = 9 if x > 0 else 1.0 / 9.0\n",
        "                break\n",
        "\n",
        "            if interval[j] <= np.abs(x) <= interval[j + 1]:\n",
        "                df_pref[it.multi_index] = j+1 if x > 0 else 1.0/(j+1)\n",
        "                break\n",
        "    return df_pref.round(3)"
      ],
      "execution_count": 9,
      "outputs": []
    },
    {
      "cell_type": "code",
      "metadata": {
        "id": "Rvj2qx_Fu4bQ"
      },
      "source": [
        "def notas_pref(A):\n",
        "  df_pref  = pd.DataFrame()\n",
        "  I = matrix_intervalos(A)\n",
        "\n",
        "  # For each objective\n",
        "  for i, sol in enumerate(A.T):\n",
        "    # Calculate the difference among the values\n",
        "    df_dif = my_cdist(sol)\n",
        "    # Get the intervals\n",
        "    interval = I[:, i]\n",
        "    # Generate the PC matrices\n",
        "    pp = pd.DataFrame(preferencia(df_dif, interval), index = None)\n",
        "\n",
        "    df_pref = pd.concat([df_pref, pp], axis=1)\n",
        "    \n",
        "  return df_pref"
      ],
      "execution_count": 10,
      "outputs": []
    },
    {
      "cell_type": "markdown",
      "metadata": {
        "id": "KWTeh1kqvDnj"
      },
      "source": [
        "## Data preparation"
      ]
    },
    {
      "cell_type": "code",
      "metadata": {
        "id": "AI2AZtkavCXl"
      },
      "source": [
        "def create_subsample(df_var, df_pref, nobj, index):\n",
        "  '''\n",
        "  Create sub-dataframes with the features (alternatives) and target (value in the objective space). \n",
        "  '''\n",
        "  # Create a df_aux that receive the features concatenated (objectives) and targets (preference)\n",
        "  sub_df = pd.DataFrame(np.zeros((len(index), df_var.shape[1]*2 + nobj)))\n",
        "\n",
        "  cont = 0\n",
        "  for i in index:\n",
        "    for j in index:\n",
        "      # Concatenate the two rows - i.e. values of the objectives and the preference between the two objectives\n",
        "      sub_df.loc[cont] = pd.concat([df_var.loc[i], df_var.loc[j], \\\n",
        "                                    df_pref.loc[i, j]], axis = 0, ignore_index = True) \n",
        "      cont += 1\n",
        "\n",
        "  return sub_df"
      ],
      "execution_count": 11,
      "outputs": []
    },
    {
      "cell_type": "code",
      "metadata": {
        "id": "OjDEerauESBe"
      },
      "source": [
        "def merge_matrices(idx_N_Q, preference_matrix, ml_predicted, nobj, npop):\n",
        "    '''\n",
        "    Replace the predicted values in the preference matrix to calculate \n",
        "    if the rankings (predicted vs preference) are equal or not.\n",
        "    '''\n",
        "    df_merged = preference_matrix.copy()\n",
        "    for col in range(nobj):\n",
        "        row = 0\n",
        "    for s1 in idx_N_Q:\n",
        "        for s2 in idx_N_Q:\n",
        "            df_merged.iloc[s1, s2+npop*col] = ml_predicted.loc[row, col]\n",
        "            row+= 1\n",
        "    return df_merged"
      ],
      "execution_count": 12,
      "outputs": []
    },
    {
      "cell_type": "markdown",
      "metadata": {
        "id": "uE9SqHqGEWVc"
      },
      "source": [
        "## Hyper parameters"
      ]
    },
    {
      "cell_type": "code",
      "metadata": {
        "id": "Eh12TV3SEYQl"
      },
      "source": [
        "def fine_tunning(CV, X, y):\n",
        "    \"\"\"\n",
        "    Search the best parameters for the Gradient Boosting Regressor model.\n",
        "    \"\"\"\n",
        "    model = MultiOutputRegressor(GradientBoostingRegressor(loss='ls', \n",
        "                                                            learning_rate=0.001, \n",
        "                                                            n_estimators=500, \n",
        "                                                            subsample=1.0,\n",
        "                                                            criterion='friedman_mse', \n",
        "                                                            min_samples_split=10,\n",
        "                                                            min_samples_leaf=1,\n",
        "                                                            min_weight_fraction_leaf=0.0, \n",
        "                                                            max_depth=30,\n",
        "                                                            min_impurity_decrease=0.0,\n",
        "                                                            min_impurity_split=None, \n",
        "                                                            init=None, \n",
        "                                                            random_state= 42,\n",
        "                                                            max_features=None,\n",
        "                                                            alpha=0.9, \n",
        "                                                            verbose=0, \n",
        "                                                            max_leaf_nodes=None, \n",
        "                                                            warm_start=False,\n",
        "                                                            validation_fraction=0.1, \n",
        "                                                            n_iter_no_change=None, \n",
        "                                                            tol=0.0001,\n",
        "                                                            ccp_alpha=0.0))\n",
        "\n",
        "    hyperparameters = dict(estimator__learning_rate=[0.05], \n",
        "                            estimator__loss=['ls'],\n",
        "                            estimator__n_estimators=[500, 1000],\n",
        "                            estimator__criterion=['friedman_mse'], \n",
        "                            estimator__min_samples_split=[7, 10],\n",
        "                            estimator__max_depth=[15, 30], \n",
        "                            estimator__min_samples_leaf=[1, 2],\n",
        "                            estimator__min_impurity_decrease=[0],\n",
        "                            estimator__max_leaf_nodes=[5, 30])\n",
        "\n",
        "    randomized_search = RandomizedSearchCV(model, \n",
        "                                            hyperparameters, \n",
        "                                            random_state=42, \n",
        "                                            n_iter=5, \n",
        "                                            scoring=None,\n",
        "                                            n_jobs=-1, \n",
        "                                            refit=True, \n",
        "                                            cv=CV, \n",
        "                                            verbose=True,\n",
        "                                            pre_dispatch='2*n_jobs', \n",
        "                                            error_score='raise', \n",
        "                                            return_train_score=True)\n",
        "\n",
        "    hyperparameters_tuning = randomized_search.fit(X, y)\n",
        "\n",
        "    tuned_model = hyperparameters_tuning.best_estimator_\n",
        "\n",
        "    return tuned_model"
      ],
      "execution_count": 13,
      "outputs": []
    },
    {
      "cell_type": "markdown",
      "metadata": {
        "id": "8EM-9XaYxQWM"
      },
      "source": [
        "## Metrics"
      ]
    },
    {
      "cell_type": "code",
      "metadata": {
        "id": "zd3cAGayvCoS"
      },
      "source": [
        "def mean_absolute_percentage_error(y_true, y_pred): \n",
        "    y_true, y_pred = np.array(y_true), np.array(y_pred)\n",
        "    return np.mean(np.abs((y_true - y_pred) / y_true))"
      ],
      "execution_count": 14,
      "outputs": []
    },
    {
      "cell_type": "markdown",
      "metadata": {
        "id": "330f6iXD2irP"
      },
      "source": [
        "## AHP"
      ]
    },
    {
      "cell_type": "code",
      "metadata": {
        "id": "nuqLlbTk2h0V"
      },
      "source": [
        "# AHP\n",
        "def ahp(df):\n",
        "    return ((df / df.apply('sum', axis = 0)).apply(\"sum\", axis = 1)).sort_values(ascending=False)"
      ],
      "execution_count": 15,
      "outputs": []
    },
    {
      "cell_type": "markdown",
      "metadata": {
        "id": "CNCW-xQGnMfZ"
      },
      "source": [
        "## Tau distance"
      ]
    },
    {
      "cell_type": "code",
      "metadata": {
        "id": "AWX_h_ROuu5M"
      },
      "source": [
        "# Tau distance\n",
        "def tau_distance(r1, r2):\n",
        "  '''\n",
        "  Values close to 1 indicate strong agreement, \n",
        "  and values close to -1 indicate strong disagreement.\n",
        "  '''\n",
        "  tau, p_value = stats.kendalltau(r1, r2)\n",
        "  return tau\n",
        "\n",
        "def normalised_kendall_tau_distance(r1, r2):\n",
        "    \"\"\"\n",
        "    Compute the normalized Kendall tau distance.\n",
        "    \"\"\"\n",
        "    n = len(r1)\n",
        "    assert len(r2) == n, \"Both lists have to be of equal length\"\n",
        "    i, j = np.meshgrid(np.arange(n), np.arange(n))\n",
        "    a = np.argsort(r1)\n",
        "    b = np.argsort(r2)\n",
        "    ndisordered = np.logical_or(np.logical_and(a[i] < a[j], b[i] > b[j]), np.logical_and(a[i] > a[j], b[i] < b[j])).sum()\n",
        "    return ndisordered / (n * (n - 1))"
      ],
      "execution_count": 16,
      "outputs": []
    },
    {
      "cell_type": "markdown",
      "metadata": {
        "id": "BuX3IFL6Ln6a"
      },
      "source": [
        "# Main "
      ]
    },
    {
      "cell_type": "code",
      "metadata": {
        "id": "iABECB3MXmkr"
      },
      "source": [
        "# Generate the preferences\n",
        "df_obj = df_obj.to_numpy()\n",
        "df_pref = notas_pref(df_obj)\n",
        "\n",
        "# AHP from the original alternatives\n",
        "rank_ahp = ahp(df_pref).index"
      ],
      "execution_count": 17,
      "outputs": []
    },
    {
      "cell_type": "code",
      "metadata": {
        "id": "f6NHku8FUdN8"
      },
      "source": [
        "# Generate the index to be evaluated\n",
        "index = list(df_var.index)\n",
        "\n",
        "# Aleatory ranking\n",
        "aleatory = index.copy()\n",
        "random.shuffle(aleatory)\n",
        "\n",
        "# Start an aleatory ranking\n",
        "rank_aleatory = aleatory.copy()"
      ],
      "execution_count": 18,
      "outputs": []
    },
    {
      "cell_type": "code",
      "metadata": {
        "id": "8dzG8jYbEaw2",
        "colab": {
          "base_uri": "https://localhost:8080/",
          "height": 1000
        },
        "outputId": "1bc7c2b7-4d65-4fdd-8863-5602d94c19da"
      },
      "source": [
        "# Distancias\n",
        "current_previous = []\n",
        "current_ahp = []\n",
        "\n",
        "# Metrics\n",
        "mse = []\n",
        "rmse = []\n",
        "r2 = []\n",
        "mape = []\n",
        "\n",
        "# Iterations\n",
        "iteration = []\n",
        "itera = 0\n",
        "\n",
        "temp = 1\n",
        "for aux in tqdm(range(len_Q, npop, len_Q)):\n",
        "    itera += 1\n",
        "\n",
        "    # Define Q and N-Q indexes\n",
        "    Q_index = rank_aleatory[0:aux]\n",
        "    N_Q_index = [x for x in index if x not in Q_index]\n",
        "\n",
        "    # Train\n",
        "    df_Q = create_subsample(df_var = df_var, df_pref = df_pref, nobj = nobj, index = Q_index)\n",
        "    X_train = df_Q.iloc[:,:-nobj]  # to predict\n",
        "    y_train = df_Q.iloc[:,-nobj:]  # real targets\n",
        "    # Test\n",
        "    df_N_Q = create_subsample(df_var = df_var, df_pref = df_pref, nobj = nobj, index = N_Q_index)\n",
        "    X_test = df_N_Q.iloc[:,:-nobj]  # to predict\n",
        "    y_test = df_N_Q.iloc[:,-nobj:]  # real targets\n",
        "\n",
        "    # Model training\n",
        "    if temp > accepted_error:\n",
        "        tuned_model = fine_tunning(CV, X_train, y_train)\n",
        "        with open(\"tuned_model_cbic.pkl\", 'wb') as arq:      # Save best model\n",
        "            pickle.dump(tuned_model, arq)\n",
        "        tuned_model.fit(X_train, y_train)\n",
        "    else:\n",
        "        with open(\"tuned_model_cbic.pkl\", \"rb\") as fp:       # Load trained model\n",
        "            tuned_model = pickle.load(fp)                        \n",
        "\n",
        "    # Model evaluation\n",
        "    y_pred = tuned_model.predict(X_test)\n",
        "    y_pred = pd.DataFrame(y_pred)\n",
        "\n",
        "    # Metrics\n",
        "    mse.append(mean_squared_error(pd.DataFrame(y_test.values), pd.DataFrame(y_pred.values), squared = True))\n",
        "    rmse.append(mean_squared_error(pd.DataFrame(y_test.values), pd.DataFrame(y_pred.values), squared = False))\n",
        "    r2.append(r2_score(pd.DataFrame(y_test.values), pd.DataFrame(y_pred.values)))\n",
        "    mape.append(mean_absolute_percentage_error(pd.DataFrame(y_test.values), pd.DataFrame(y_pred.values)))\n",
        "\n",
        "    # Merge the predictions of the df train and df test\n",
        "    df_merged = merge_matrices(N_Q_index, df_pref, y_pred, nobj, npop)\n",
        "\n",
        "    # Employ AHP in the predicted (mixed with preferences) dataset\n",
        "    rank_predicted = ahp(df_merged).index\n",
        "\n",
        "    # Calculate distances\n",
        "    temp = normalised_kendall_tau_distance(r1 = rank_aleatory, r2 = rank_predicted)\n",
        "    current_previous.append(temp)\n",
        "    current_ahp.append(normalised_kendall_tau_distance(r1 = rank_ahp, r2 = rank_predicted))\n",
        "\n",
        "    df_obj = pd.DataFrame(df_obj)\n",
        "    plt.scatter(df_obj.loc[:, 0], df_obj.loc[:, 1], color='gray')                                                           #available\n",
        "    plt.scatter(df_obj.loc[rank_predicted[0:aux], 0], df_obj.loc[rank_predicted[0:aux], 1], color='red', marker='^')        #top ranked\n",
        "    plt.scatter(df_obj.loc[rank_ahp[0:aux], 0], df_obj.loc[rank_ahp[0:aux], 1], color='black', marker='*')                  #ahp\n",
        "    plt.legend([\"Available\",\"Top ranked\", 'AHP'])\n",
        "    plt.show()\n",
        "\n",
        "    # Update the ranking\n",
        "    rank_aleatory = rank_predicted\n",
        "\n",
        "    # Storage the iterations\n",
        "    iteration.append(itera)"
      ],
      "execution_count": 19,
      "outputs": [
        {
          "output_type": "stream",
          "name": "stderr",
          "text": [
            "\r  0%|          | 0/9 [00:00<?, ?it/s]"
          ]
        },
        {
          "output_type": "stream",
          "name": "stdout",
          "text": [
            "Fitting 2 folds for each of 5 candidates, totalling 10 fits\n"
          ]
        },
        {
          "output_type": "stream",
          "name": "stderr",
          "text": [
            "[Parallel(n_jobs=-1)]: Using backend LokyBackend with 2 concurrent workers.\n",
            "[Parallel(n_jobs=-1)]: Done  10 out of  10 | elapsed:    4.5s finished\n"
          ]
        },
        {
          "output_type": "display_data",
          "data": {
            "image/png": "[encoded data removed]",
            "text/plain": [
              "<Figure size 432x288 with 1 Axes>"
            ]
          },
          "metadata": {
            "needs_background": "light"
          }
        },
        {
          "output_type": "stream",
          "name": "stderr",
          "text": [
            "\r 11%|█         | 1/9 [00:06<00:55,  6.92s/it]"
          ]
        },
        {
          "output_type": "stream",
          "name": "stdout",
          "text": [
            "Fitting 2 folds for each of 5 candidates, totalling 10 fits\n"
          ]
        },
        {
          "output_type": "stream",
          "name": "stderr",
          "text": [
            "[Parallel(n_jobs=-1)]: Using backend LokyBackend with 2 concurrent workers.\n",
            "[Parallel(n_jobs=-1)]: Done  10 out of  10 | elapsed:    3.1s finished\n"
          ]
        },
        {
          "output_type": "display_data",
          "data": {
            "image/png": "[encoded data removed]",
            "text/plain": [
              "<Figure size 432x288 with 1 Axes>"
            ]
          },
          "metadata": {
            "needs_background": "light"
          }
        },
        {
          "output_type": "stream",
          "name": "stderr",
          "text": [
            "\r 22%|██▏       | 2/9 [00:12<00:41,  5.90s/it]"
          ]
        },
        {
          "output_type": "stream",
          "name": "stdout",
          "text": [
            "Fitting 2 folds for each of 5 candidates, totalling 10 fits\n"
          ]
        },
        {
          "output_type": "stream",
          "name": "stderr",
          "text": [
            "[Parallel(n_jobs=-1)]: Using backend LokyBackend with 2 concurrent workers.\n",
            "[Parallel(n_jobs=-1)]: Done  10 out of  10 | elapsed:    3.7s finished\n"
          ]
        },
        {
          "output_type": "display_data",
          "data": {
            "image/png": "[encoded data removed]",
            "text/plain": [
              "<Figure size 432x288 with 1 Axes>"
            ]
          },
          "metadata": {
            "needs_background": "light"
          }
        },
        {
          "output_type": "stream",
          "name": "stderr",
          "text": [
            "\r 33%|███▎      | 3/9 [00:17<00:34,  5.73s/it]"
          ]
        },
        {
          "output_type": "stream",
          "name": "stdout",
          "text": [
            "Fitting 2 folds for each of 5 candidates, totalling 10 fits\n"
          ]
        },
        {
          "output_type": "stream",
          "name": "stderr",
          "text": [
            "[Parallel(n_jobs=-1)]: Using backend LokyBackend with 2 concurrent workers.\n",
            "[Parallel(n_jobs=-1)]: Done  10 out of  10 | elapsed:    3.9s finished\n"
          ]
        },
        {
          "output_type": "display_data",
          "data": {
            "image/png": "[encoded data removed]",
            "text/plain": [
              "<Figure size 432x288 with 1 Axes>"
            ]
          },
          "metadata": {
            "needs_background": "light"
          }
        },
        {
          "output_type": "stream",
          "name": "stderr",
          "text": [
            "\r 44%|████▍     | 4/9 [00:24<00:30,  6.18s/it]"
          ]
        },
        {
          "output_type": "stream",
          "name": "stdout",
          "text": [
            "Fitting 2 folds for each of 5 candidates, totalling 10 fits\n"
          ]
        },
        {
          "output_type": "stream",
          "name": "stderr",
          "text": [
            "[Parallel(n_jobs=-1)]: Using backend LokyBackend with 2 concurrent workers.\n",
            "[Parallel(n_jobs=-1)]: Done  10 out of  10 | elapsed:    4.2s finished\n"
          ]
        },
        {
          "output_type": "display_data",
          "data": {
            "image/png": "[encoded data removed]",
            "text/plain": [
              "<Figure size 432x288 with 1 Axes>"
            ]
          },
          "metadata": {
            "needs_background": "light"
          }
        },
        {
          "output_type": "stream",
          "name": "stderr",
          "text": [
            "\r 56%|█████▌    | 5/9 [00:31<00:26,  6.57s/it]"
          ]
        },
        {
          "output_type": "stream",
          "name": "stdout",
          "text": [
            "Fitting 2 folds for each of 5 candidates, totalling 10 fits\n"
          ]
        },
        {
          "output_type": "stream",
          "name": "stderr",
          "text": [
            "[Parallel(n_jobs=-1)]: Using backend LokyBackend with 2 concurrent workers.\n",
            "[Parallel(n_jobs=-1)]: Done  10 out of  10 | elapsed:    5.4s finished\n"
          ]
        },
        {
          "output_type": "display_data",
          "data": {
            "image/png": "[encoded data removed]",
            "text/plain": [
              "<Figure size 432x288 with 1 Axes>"
            ]
          },
          "metadata": {
            "needs_background": "light"
          }
        },
        {
          "output_type": "stream",
          "name": "stderr",
          "text": [
            "\r 67%|██████▋   | 6/9 [00:40<00:22,  7.35s/it]"
          ]
        },
        {
          "output_type": "stream",
          "name": "stdout",
          "text": [
            "Fitting 2 folds for each of 5 candidates, totalling 10 fits\n"
          ]
        },
        {
          "output_type": "stream",
          "name": "stderr",
          "text": [
            "[Parallel(n_jobs=-1)]: Using backend LokyBackend with 2 concurrent workers.\n",
            "[Parallel(n_jobs=-1)]: Done  10 out of  10 | elapsed:    6.8s finished\n"
          ]
        },
        {
          "output_type": "display_data",
          "data": {
            "image/png": "[encoded data removed]",
            "text/plain": [
              "<Figure size 432x288 with 1 Axes>"
            ]
          },
          "metadata": {
            "needs_background": "light"
          }
        },
        {
          "output_type": "stream",
          "name": "stderr",
          "text": [
            "\r 78%|███████▊  | 7/9 [00:52<00:17,  8.71s/it]"
          ]
        },
        {
          "output_type": "stream",
          "name": "stdout",
          "text": [
            "Fitting 2 folds for each of 5 candidates, totalling 10 fits\n"
          ]
        },
        {
          "output_type": "stream",
          "name": "stderr",
          "text": [
            "[Parallel(n_jobs=-1)]: Using backend LokyBackend with 2 concurrent workers.\n",
            "[Parallel(n_jobs=-1)]: Done  10 out of  10 | elapsed:    8.3s finished\n"
          ]
        },
        {
          "output_type": "display_data",
          "data": {
            "image/png": "[encoded data removed]",
            "text/plain": [
              "<Figure size 432x288 with 1 Axes>"
            ]
          },
          "metadata": {
            "needs_background": "light"
          }
        },
        {
          "output_type": "stream",
          "name": "stderr",
          "text": [
            "\r 89%|████████▉ | 8/9 [01:05<00:10, 10.25s/it]"
          ]
        },
        {
          "output_type": "stream",
          "name": "stdout",
          "text": [
            "Fitting 2 folds for each of 5 candidates, totalling 10 fits\n"
          ]
        },
        {
          "output_type": "stream",
          "name": "stderr",
          "text": [
            "[Parallel(n_jobs=-1)]: Using backend LokyBackend with 2 concurrent workers.\n",
            "[Parallel(n_jobs=-1)]: Done  10 out of  10 | elapsed:   10.3s finished\n"
          ]
        },
        {
          "output_type": "display_data",
          "data": {
            "image/png": "[encoded data removed]",
            "text/plain": [
              "<Figure size 432x288 with 1 Axes>"
            ]
          },
          "metadata": {
            "needs_background": "light"
          }
        },
        {
          "output_type": "stream",
          "name": "stderr",
          "text": [
            "100%|██████████| 9/9 [01:22<00:00,  9.16s/it]\n"
          ]
        }
      ]
    },
    {
      "cell_type": "code",
      "metadata": {
        "id": "4HJYcLPIcu8B"
      },
      "source": [
        "# Merge the results\n",
        "results = pd.DataFrame({'Iteration': iteration,\n",
        "                        'MSE': mse, \n",
        "                        'RMSE': rmse, \n",
        "                        'R2': r2, \n",
        "                        'MAPE': mape,\n",
        "                        'Current_Previous': current_previous, \n",
        "                        'Current_AHP': current_ahp})\n",
        "\n",
        "results_metrics = results[['Iteration', 'MSE', 'RMSE', 'R2', 'MAPE']]\n",
        "results_tau = results[['Iteration', 'Current_Previous', 'Current_AHP']]"
      ],
      "execution_count": 20,
      "outputs": []
    },
    {
      "cell_type": "code",
      "metadata": {
        "id": "_lh-rXMIdJsP",
        "outputId": "ff90d7d6-57f7-48b9-b755-92dbfb89e41a",
        "colab": {
          "base_uri": "https://localhost:8080/",
          "height": 279
        }
      },
      "source": [
        "fig, ax = plt.subplots()\n",
        "sns.lineplot(x = 'Iteration', \n",
        "             y = 'value', \n",
        "             hue = 'variable', \n",
        "             data = pd.melt(results_metrics, \"Iteration\"))\n",
        "ax.legend([\"MSE\", \"RMSE\", 'R2', 'MAPE'])\n",
        "plt.ylabel(\"Error\")\n",
        "plt.show()"
      ],
      "execution_count": 21,
      "outputs": [
        {
          "output_type": "display_data",
          "data": {
            "image/png": "[encoded data removed]",
            "text/plain": [
              "<Figure size 432x288 with 1 Axes>"
            ]
          },
          "metadata": {
            "needs_background": "light"
          }
        }
      ]
    },
    {
      "cell_type": "code",
      "metadata": {
        "id": "lM0kgrlheOOv",
        "outputId": "a2fdad49-b6b1-4bb2-ebfb-ebb52b519587",
        "colab": {
          "base_uri": "https://localhost:8080/",
          "height": 328
        }
      },
      "source": [
        "results"
      ],
      "execution_count": 22,
      "outputs": [
        {
          "output_type": "execute_result",
          "data": {
            "text/html": [
              "<div>\n",
              "<style scoped>\n",
              "    .dataframe tbody tr th:only-of-type {\n",
              "        vertical-align: middle;\n",
              "    }\n",
              "\n",
              "    .dataframe tbody tr th {\n",
              "        vertical-align: top;\n",
              "    }\n",
              "\n",
              "    .dataframe thead th {\n",
              "        text-align: right;\n",
              "    }\n",
              "</style>\n",
              "<table border=\"1\" class=\"dataframe\">\n",
              "  <thead>\n",
              "    <tr style=\"text-align: right;\">\n",
              "      <th></th>\n",
              "      <th>Iteration</th>\n",
              "      <th>MSE</th>\n",
              "      <th>RMSE</th>\n",
              "      <th>R2</th>\n",
              "      <th>MAPE</th>\n",
              "      <th>Current_Previous</th>\n",
              "      <th>Current_AHP</th>\n",
              "    </tr>\n",
              "  </thead>\n",
              "  <tbody>\n",
              "    <tr>\n",
              "      <th>0</th>\n",
              "      <td>1</td>\n",
              "      <td>3.292317</td>\n",
              "      <td>1.814474</td>\n",
              "      <td>-0.095783</td>\n",
              "      <td>1.022658</td>\n",
              "      <td>0.505263</td>\n",
              "      <td>0.536842</td>\n",
              "    </tr>\n",
              "    <tr>\n",
              "      <th>1</th>\n",
              "      <td>2</td>\n",
              "      <td>2.562989</td>\n",
              "      <td>1.600934</td>\n",
              "      <td>-0.093162</td>\n",
              "      <td>0.752405</td>\n",
              "      <td>0.373684</td>\n",
              "      <td>0.373684</td>\n",
              "    </tr>\n",
              "    <tr>\n",
              "      <th>2</th>\n",
              "      <td>3</td>\n",
              "      <td>3.717636</td>\n",
              "      <td>1.928117</td>\n",
              "      <td>0.032288</td>\n",
              "      <td>1.437015</td>\n",
              "      <td>0.478947</td>\n",
              "      <td>0.473684</td>\n",
              "    </tr>\n",
              "    <tr>\n",
              "      <th>3</th>\n",
              "      <td>4</td>\n",
              "      <td>2.413389</td>\n",
              "      <td>1.553509</td>\n",
              "      <td>0.302344</td>\n",
              "      <td>0.773163</td>\n",
              "      <td>0.457895</td>\n",
              "      <td>0.194737</td>\n",
              "    </tr>\n",
              "    <tr>\n",
              "      <th>4</th>\n",
              "      <td>5</td>\n",
              "      <td>4.602859</td>\n",
              "      <td>2.145428</td>\n",
              "      <td>0.202203</td>\n",
              "      <td>1.133277</td>\n",
              "      <td>0.263158</td>\n",
              "      <td>0.289474</td>\n",
              "    </tr>\n",
              "    <tr>\n",
              "      <th>5</th>\n",
              "      <td>6</td>\n",
              "      <td>2.369550</td>\n",
              "      <td>1.539334</td>\n",
              "      <td>0.516611</td>\n",
              "      <td>0.698654</td>\n",
              "      <td>0.257895</td>\n",
              "      <td>0.136842</td>\n",
              "    </tr>\n",
              "    <tr>\n",
              "      <th>6</th>\n",
              "      <td>7</td>\n",
              "      <td>0.657747</td>\n",
              "      <td>0.811016</td>\n",
              "      <td>0.882066</td>\n",
              "      <td>0.479001</td>\n",
              "      <td>0.173684</td>\n",
              "      <td>0.121053</td>\n",
              "    </tr>\n",
              "    <tr>\n",
              "      <th>7</th>\n",
              "      <td>8</td>\n",
              "      <td>1.182814</td>\n",
              "      <td>1.087573</td>\n",
              "      <td>0.854719</td>\n",
              "      <td>0.422910</td>\n",
              "      <td>0.126316</td>\n",
              "      <td>0.015789</td>\n",
              "    </tr>\n",
              "    <tr>\n",
              "      <th>8</th>\n",
              "      <td>9</td>\n",
              "      <td>0.030385</td>\n",
              "      <td>0.174313</td>\n",
              "      <td>0.000000</td>\n",
              "      <td>0.138386</td>\n",
              "      <td>0.015789</td>\n",
              "      <td>0.000000</td>\n",
              "    </tr>\n",
              "  </tbody>\n",
              "</table>\n",
              "</div>"
            ],
            "text/plain": [
              "   Iteration       MSE      RMSE  ...      MAPE  Current_Previous  Current_AHP\n",
              "0          1  3.292317  1.814474  ...  1.022658          0.505263     0.536842\n",
              "1          2  2.562989  1.600934  ...  0.752405          0.373684     0.373684\n",
              "2          3  3.717636  1.928117  ...  1.437015          0.478947     0.473684\n",
              "3          4  2.413389  1.553509  ...  0.773163          0.457895     0.194737\n",
              "4          5  4.602859  2.145428  ...  1.133277          0.263158     0.289474\n",
              "5          6  2.369550  1.539334  ...  0.698654          0.257895     0.136842\n",
              "6          7  0.657747  0.811016  ...  0.479001          0.173684     0.121053\n",
              "7          8  1.182814  1.087573  ...  0.422910          0.126316     0.015789\n",
              "8          9  0.030385  0.174313  ...  0.138386          0.015789     0.000000\n",
              "\n",
              "[9 rows x 7 columns]"
            ]
          },
          "metadata": {},
          "execution_count": 22
        }
      ]
    },
    {
      "cell_type": "code",
      "metadata": {
        "id": "OTdiHc1ogoT-",
        "outputId": "669157c2-1892-4c41-99a2-aee2b5affa52",
        "colab": {
          "base_uri": "https://localhost:8080/",
          "height": 283
        }
      },
      "source": [
        "fig, ax = plt.subplots()\n",
        "sns.lineplot(x = 'Iteration', \n",
        "             y = 'value', \n",
        "             hue = 'variable', \n",
        "             data = pd.melt(results_tau, \"Iteration\"))\n",
        "ax.legend([\"Current vs Previous\", 'Current vs AHP'])\n",
        "ax.set_ylim(0, 1)\n",
        "plt.ylabel(\"Error\")\n",
        "plt.axhline(y=.05, ls=':', color='red', marker='*')\n",
        "plt.show()"
      ],
      "execution_count": 23,
      "outputs": [
        {
          "output_type": "display_data",
          "data": {
            "image/png": "[encoded data removed]",
            "text/plain": [
              "<Figure size 432x288 with 1 Axes>"
            ]
          },
          "metadata": {
            "needs_background": "light"
          }
        }
      ]
    },
    {
      "cell_type": "markdown",
      "metadata": {
        "id": "PRmJtzfvwjN0"
      },
      "source": [
        "# Select top10 to plot"
      ]
    },
    {
      "cell_type": "code",
      "metadata": {
        "id": "51tHzQX4wsZp"
      },
      "source": [
        "top10_pred = rank_predicted[0:10]"
      ],
      "execution_count": 24,
      "outputs": []
    },
    {
      "cell_type": "code",
      "metadata": {
        "id": "BfkdpD08tXW1"
      },
      "source": [
        "select_top10 = pd.DataFrame(df_obj)"
      ],
      "execution_count": 25,
      "outputs": []
    },
    {
      "cell_type": "code",
      "metadata": {
        "id": "QLwZGClqtxKc"
      },
      "source": [
        "select_top10 = select_top10.iloc[top10_pred, :]"
      ],
      "execution_count": 26,
      "outputs": []
    },
    {
      "cell_type": "code",
      "metadata": {
        "id": "s1vJm6ZO-Tg1",
        "outputId": "18da0244-2528-471f-83d0-a0bc7a9c2bd1",
        "colab": {
          "base_uri": "https://localhost:8080/",
          "height": 359
        }
      },
      "source": [
        "select_top10.round(4)"
      ],
      "execution_count": 27,
      "outputs": [
        {
          "output_type": "execute_result",
          "data": {
            "text/html": [
              "<div>\n",
              "<style scoped>\n",
              "    .dataframe tbody tr th:only-of-type {\n",
              "        vertical-align: middle;\n",
              "    }\n",
              "\n",
              "    .dataframe tbody tr th {\n",
              "        vertical-align: top;\n",
              "    }\n",
              "\n",
              "    .dataframe thead th {\n",
              "        text-align: right;\n",
              "    }\n",
              "</style>\n",
              "<table border=\"1\" class=\"dataframe\">\n",
              "  <thead>\n",
              "    <tr style=\"text-align: right;\">\n",
              "      <th></th>\n",
              "      <th>0</th>\n",
              "      <th>1</th>\n",
              "    </tr>\n",
              "  </thead>\n",
              "  <tbody>\n",
              "    <tr>\n",
              "      <th>19</th>\n",
              "      <td>1.5310</td>\n",
              "      <td>1.3706</td>\n",
              "    </tr>\n",
              "    <tr>\n",
              "      <th>2</th>\n",
              "      <td>1.5139</td>\n",
              "      <td>1.4397</td>\n",
              "    </tr>\n",
              "    <tr>\n",
              "      <th>13</th>\n",
              "      <td>1.4596</td>\n",
              "      <td>1.5043</td>\n",
              "    </tr>\n",
              "    <tr>\n",
              "      <th>7</th>\n",
              "      <td>1.4772</td>\n",
              "      <td>1.4920</td>\n",
              "    </tr>\n",
              "    <tr>\n",
              "      <th>6</th>\n",
              "      <td>1.4179</td>\n",
              "      <td>1.5213</td>\n",
              "    </tr>\n",
              "    <tr>\n",
              "      <th>14</th>\n",
              "      <td>0.2905</td>\n",
              "      <td>2.0220</td>\n",
              "    </tr>\n",
              "    <tr>\n",
              "      <th>5</th>\n",
              "      <td>1.1558</td>\n",
              "      <td>1.7192</td>\n",
              "    </tr>\n",
              "    <tr>\n",
              "      <th>10</th>\n",
              "      <td>1.1655</td>\n",
              "      <td>1.6978</td>\n",
              "    </tr>\n",
              "    <tr>\n",
              "      <th>3</th>\n",
              "      <td>1.7863</td>\n",
              "      <td>1.1037</td>\n",
              "    </tr>\n",
              "    <tr>\n",
              "      <th>15</th>\n",
              "      <td>1.2598</td>\n",
              "      <td>1.5570</td>\n",
              "    </tr>\n",
              "  </tbody>\n",
              "</table>\n",
              "</div>"
            ],
            "text/plain": [
              "         0       1\n",
              "19  1.5310  1.3706\n",
              "2   1.5139  1.4397\n",
              "13  1.4596  1.5043\n",
              "7   1.4772  1.4920\n",
              "6   1.4179  1.5213\n",
              "14  0.2905  2.0220\n",
              "5   1.1558  1.7192\n",
              "10  1.1655  1.6978\n",
              "3   1.7863  1.1037\n",
              "15  1.2598  1.5570"
            ]
          },
          "metadata": {},
          "execution_count": 27
        }
      ]
    },
    {
      "cell_type": "code",
      "metadata": {
        "id": "eDhJkC83DwNU",
        "outputId": "9530a98b-7b2c-44c0-a6ff-b06eb4b6c298",
        "colab": {
          "base_uri": "https://localhost:8080/"
        }
      },
      "source": [
        "rank_ahp"
      ],
      "execution_count": 28,
      "outputs": [
        {
          "output_type": "execute_result",
          "data": {
            "text/plain": [
              "Int64Index([19, 2, 13, 7, 6, 14, 5, 10, 3, 15, 12, 11, 1, 18, 9, 8, 0, 4, 16,\n",
              "            17],\n",
              "           dtype='int64')"
            ]
          },
          "metadata": {},
          "execution_count": 28
        }
      ]
    },
    {
      "cell_type": "code",
      "metadata": {
        "id": "sLtSUfIXD_WR",
        "outputId": "79288ad2-06e7-4dc4-c8b2-39a9bc319774",
        "colab": {
          "base_uri": "https://localhost:8080/"
        }
      },
      "source": [
        "rank_predicted"
      ],
      "execution_count": 29,
      "outputs": [
        {
          "output_type": "execute_result",
          "data": {
            "text/plain": [
              "Int64Index([19, 2, 13, 7, 6, 14, 5, 10, 3, 15, 12, 11, 1, 18, 9, 8, 0, 4, 16,\n",
              "            17],\n",
              "           dtype='int64')"
            ]
          },
          "metadata": {},
          "execution_count": 29
        }
      ]
    },
    {
      "cell_type": "code",
      "metadata": {
        "id": "s0A3V490EjAN",
        "outputId": "69ebf984-7111-4805-85b1-46d32efa77be",
        "colab": {
          "base_uri": "https://localhost:8080/"
        }
      },
      "source": [
        "normalised_kendall_tau_distance(rank_ahp, rank_predicted)"
      ],
      "execution_count": 30,
      "outputs": [
        {
          "output_type": "execute_result",
          "data": {
            "text/plain": [
              "0.0"
            ]
          },
          "metadata": {},
          "execution_count": 30
        }
      ]
    },
    {
      "cell_type": "code",
      "metadata": {
        "id": "cdMP-McfQQNU",
        "outputId": "566a742c-036c-45ba-840d-bd258c1d7081",
        "colab": {
          "base_uri": "https://localhost:8080/",
          "height": 669
        }
      },
      "source": [
        "df_obj"
      ],
      "execution_count": 31,
      "outputs": [
        {
          "output_type": "execute_result",
          "data": {
            "text/html": [
              "<div>\n",
              "<style scoped>\n",
              "    .dataframe tbody tr th:only-of-type {\n",
              "        vertical-align: middle;\n",
              "    }\n",
              "\n",
              "    .dataframe tbody tr th {\n",
              "        vertical-align: top;\n",
              "    }\n",
              "\n",
              "    .dataframe thead th {\n",
              "        text-align: right;\n",
              "    }\n",
              "</style>\n",
              "<table border=\"1\" class=\"dataframe\">\n",
              "  <thead>\n",
              "    <tr style=\"text-align: right;\">\n",
              "      <th></th>\n",
              "      <th>0</th>\n",
              "      <th>1</th>\n",
              "    </tr>\n",
              "  </thead>\n",
              "  <tbody>\n",
              "    <tr>\n",
              "      <th>0</th>\n",
              "      <td>1.96510</td>\n",
              "      <td>0.37645</td>\n",
              "    </tr>\n",
              "    <tr>\n",
              "      <th>1</th>\n",
              "      <td>0.35081</td>\n",
              "      <td>1.97640</td>\n",
              "    </tr>\n",
              "    <tr>\n",
              "      <th>2</th>\n",
              "      <td>1.51390</td>\n",
              "      <td>1.43970</td>\n",
              "    </tr>\n",
              "    <tr>\n",
              "      <th>3</th>\n",
              "      <td>1.78630</td>\n",
              "      <td>1.10370</td>\n",
              "    </tr>\n",
              "    <tr>\n",
              "      <th>4</th>\n",
              "      <td>1.97000</td>\n",
              "      <td>0.36351</td>\n",
              "    </tr>\n",
              "    <tr>\n",
              "      <th>5</th>\n",
              "      <td>1.15580</td>\n",
              "      <td>1.71920</td>\n",
              "    </tr>\n",
              "    <tr>\n",
              "      <th>6</th>\n",
              "      <td>1.41790</td>\n",
              "      <td>1.52130</td>\n",
              "    </tr>\n",
              "    <tr>\n",
              "      <th>7</th>\n",
              "      <td>1.47720</td>\n",
              "      <td>1.49200</td>\n",
              "    </tr>\n",
              "    <tr>\n",
              "      <th>8</th>\n",
              "      <td>1.96160</td>\n",
              "      <td>0.38989</td>\n",
              "    </tr>\n",
              "    <tr>\n",
              "      <th>9</th>\n",
              "      <td>0.82494</td>\n",
              "      <td>1.82290</td>\n",
              "    </tr>\n",
              "    <tr>\n",
              "      <th>10</th>\n",
              "      <td>1.16550</td>\n",
              "      <td>1.69780</td>\n",
              "    </tr>\n",
              "    <tr>\n",
              "      <th>11</th>\n",
              "      <td>0.33842</td>\n",
              "      <td>1.98390</td>\n",
              "    </tr>\n",
              "    <tr>\n",
              "      <th>12</th>\n",
              "      <td>1.59560</td>\n",
              "      <td>1.21430</td>\n",
              "    </tr>\n",
              "    <tr>\n",
              "      <th>13</th>\n",
              "      <td>1.45960</td>\n",
              "      <td>1.50430</td>\n",
              "    </tr>\n",
              "    <tr>\n",
              "      <th>14</th>\n",
              "      <td>0.29051</td>\n",
              "      <td>2.02200</td>\n",
              "    </tr>\n",
              "    <tr>\n",
              "      <th>15</th>\n",
              "      <td>1.25980</td>\n",
              "      <td>1.55700</td>\n",
              "    </tr>\n",
              "    <tr>\n",
              "      <th>16</th>\n",
              "      <td>1.84560</td>\n",
              "      <td>0.79665</td>\n",
              "    </tr>\n",
              "    <tr>\n",
              "      <th>17</th>\n",
              "      <td>1.80910</td>\n",
              "      <td>0.85770</td>\n",
              "    </tr>\n",
              "    <tr>\n",
              "      <th>18</th>\n",
              "      <td>2.01170</td>\n",
              "      <td>0.30235</td>\n",
              "    </tr>\n",
              "    <tr>\n",
              "      <th>19</th>\n",
              "      <td>1.53100</td>\n",
              "      <td>1.37060</td>\n",
              "    </tr>\n",
              "  </tbody>\n",
              "</table>\n",
              "</div>"
            ],
            "text/plain": [
              "          0        1\n",
              "0   1.96510  0.37645\n",
              "1   0.35081  1.97640\n",
              "2   1.51390  1.43970\n",
              "3   1.78630  1.10370\n",
              "4   1.97000  0.36351\n",
              "5   1.15580  1.71920\n",
              "6   1.41790  1.52130\n",
              "7   1.47720  1.49200\n",
              "8   1.96160  0.38989\n",
              "9   0.82494  1.82290\n",
              "10  1.16550  1.69780\n",
              "11  0.33842  1.98390\n",
              "12  1.59560  1.21430\n",
              "13  1.45960  1.50430\n",
              "14  0.29051  2.02200\n",
              "15  1.25980  1.55700\n",
              "16  1.84560  0.79665\n",
              "17  1.80910  0.85770\n",
              "18  2.01170  0.30235\n",
              "19  1.53100  1.37060"
            ]
          },
          "metadata": {},
          "execution_count": 31
        }
      ]
    },
    {
      "cell_type": "code",
      "metadata": {
        "id": "3g9VrXXuVCl8",
        "outputId": "89f11319-fd19-4d03-d388-bd508a252836",
        "colab": {
          "base_uri": "https://localhost:8080/",
          "height": 173
        }
      },
      "source": [
        "y_pred"
      ],
      "execution_count": 32,
      "outputs": [
        {
          "output_type": "execute_result",
          "data": {
            "text/html": [
              "<div>\n",
              "<style scoped>\n",
              "    .dataframe tbody tr th:only-of-type {\n",
              "        vertical-align: middle;\n",
              "    }\n",
              "\n",
              "    .dataframe tbody tr th {\n",
              "        vertical-align: top;\n",
              "    }\n",
              "\n",
              "    .dataframe thead th {\n",
              "        text-align: right;\n",
              "    }\n",
              "</style>\n",
              "<table border=\"1\" class=\"dataframe\">\n",
              "  <thead>\n",
              "    <tr style=\"text-align: right;\">\n",
              "      <th></th>\n",
              "      <th>0</th>\n",
              "      <th>1</th>\n",
              "    </tr>\n",
              "  </thead>\n",
              "  <tbody>\n",
              "    <tr>\n",
              "      <th>0</th>\n",
              "      <td>0.969841</td>\n",
              "      <td>1.164197</td>\n",
              "    </tr>\n",
              "    <tr>\n",
              "      <th>1</th>\n",
              "      <td>1.070923</td>\n",
              "      <td>1.307953</td>\n",
              "    </tr>\n",
              "    <tr>\n",
              "      <th>2</th>\n",
              "      <td>0.924212</td>\n",
              "      <td>1.139899</td>\n",
              "    </tr>\n",
              "    <tr>\n",
              "      <th>3</th>\n",
              "      <td>0.981298</td>\n",
              "      <td>1.299464</td>\n",
              "    </tr>\n",
              "  </tbody>\n",
              "</table>\n",
              "</div>"
            ],
            "text/plain": [
              "          0         1\n",
              "0  0.969841  1.164197\n",
              "1  1.070923  1.307953\n",
              "2  0.924212  1.139899\n",
              "3  0.981298  1.299464"
            ]
          },
          "metadata": {},
          "execution_count": 32
        }
      ]
    },
    {
      "cell_type": "code",
      "metadata": {
        "id": "QyDXyseluI2I"
      },
      "source": [
        "# select_top10.to_csv(\"cbic_5amostras.csv\", index=None)"
      ],
      "execution_count": 33,
      "outputs": []
    },
    {
      "cell_type": "markdown",
      "metadata": {
        "id": "WBmykqggeM1i"
      },
      "source": [
        "# References\n",
        "\n",
        "- Multiclass and multioutput algorithms -- https://scikit-learn.org/stable/modules/multiclass.html#multioutput-regression\n",
        "- sklearn.model_selection.RandomizedSearchCV -- https://scikit-learn.org/stable/modules/generated/sklearn.model_selection.RandomizedSearchCV.html\n",
        "- sklearn.ensemble.GradientBoostingRegressor -- https://scikit-learn.org/stable/modules/generated/sklearn.ensemble.GradientBoostingRegressor.html\n",
        "- sklearn.model_selection.train_test_split -- https://scikit-learn.org/stable/modules/generated/sklearn.model_selection.train_test_split.html\n",
        "- AHP an example -- https://github.com/ani-rudra-chan/AHP-Python-Project/blob/master/ahp.ipynb"
      ]
    },
    {
      "cell_type": "code",
      "metadata": {
        "id": "FlzWyq2UMP0K"
      },
      "source": [
        ""
      ],
      "execution_count": null,
      "outputs": []
    }
  ]
}