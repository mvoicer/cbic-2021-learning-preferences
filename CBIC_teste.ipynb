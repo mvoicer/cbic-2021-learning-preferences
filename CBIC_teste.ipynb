{
  "nbformat": 4,
  "nbformat_minor": 0,
  "metadata": {
    "colab": {
      "name": "CBIC_teste.ipynb",
      "provenance": [],
      "collapsed_sections": [
        "z8BjHCFvuvX-",
        "snje4IXUvI_G"
      ],
      "include_colab_link": true
    },
    "kernelspec": {
      "display_name": "Python 3",
      "name": "python3"
    }
  },
  "cells": [
    {
      "cell_type": "markdown",
      "metadata": {
        "id": "view-in-github",
        "colab_type": "text"
      },
      "source": [
        "<a href=\"https://colab.research.google.com/github/mvoicer/cbic-2021-learning-preferences/blob/main/CBIC_teste.ipynb\" target=\"_parent\"><img src=\"https://colab.research.google.com/assets/colab-badge.svg\" alt=\"Open In Colab\"/></a>"
      ]
    },
    {
      "cell_type": "markdown",
      "metadata": {
        "id": "pTZzaXZVW7Bh"
      },
      "source": [
        "# Libraries"
      ]
    },
    {
      "cell_type": "code",
      "metadata": {
        "id": "v95ifRoYIMTI"
      },
      "source": [
        "import warnings\n",
        "warnings.filterwarnings(\"ignore\")"
      ],
      "execution_count": 1,
      "outputs": []
    },
    {
      "cell_type": "code",
      "metadata": {
        "id": "F3U2MxK7WrKm"
      },
      "source": [
        "import numpy as np\n",
        "import pandas as pd\n",
        "import random\n",
        "import os \n",
        "import sys\n",
        "import seaborn as sns\n",
        "import pickle\n",
        "import scipy.stats as stats\n",
        "\n",
        "from scipy.spatial.distance import cdist\n",
        "from sklearn.model_selection import train_test_split\n",
        "from sklearn.ensemble import GradientBoostingRegressor\n",
        "from sklearn.multioutput import MultiOutputRegressor\n",
        "from sklearn.model_selection import RandomizedSearchCV\n",
        "from sklearn.metrics import *\n",
        "from tqdm import tqdm\n",
        "from matplotlib import pyplot as plt"
      ],
      "execution_count": 2,
      "outputs": []
    },
    {
      "cell_type": "markdown",
      "metadata": {
        "id": "IoFJlQCLXAvx"
      },
      "source": [
        "# Directory"
      ]
    },
    {
      "cell_type": "code",
      "metadata": {
        "colab": {
          "base_uri": "https://localhost:8080/"
        },
        "id": "BwU6hRnVW_L1",
        "outputId": "efd8e717-e7f2-41df-ecec-166133ce905c"
      },
      "source": [
        "from google.colab import drive\n",
        "drive.mount(\"/content/drive\") "
      ],
      "execution_count": 3,
      "outputs": [
        {
          "output_type": "stream",
          "text": [
            "Drive already mounted at /content/drive; to attempt to forcibly remount, call drive.mount(\"/content/drive\", force_remount=True).\n"
          ],
          "name": "stdout"
        }
      ]
    },
    {
      "cell_type": "code",
      "metadata": {
        "id": "yfR9ytY4XESP",
        "colab": {
          "base_uri": "https://localhost:8080/"
        },
        "outputId": "642ddce7-befd-4917-83a2-76d98dd7116c"
      },
      "source": [
        "# Set the new directory\n",
        "os.chdir('/content/drive/My Drive/aa_UFMG/Doutorado/Experimentos GPD/LearningDM/')\n",
        "\n",
        "print(\"Current directory {}\".format(os.getcwd()))"
      ],
      "execution_count": 4,
      "outputs": [
        {
          "output_type": "stream",
          "text": [
            "Current directory /content/drive/My Drive/aa_UFMG/Doutorado/Experimentos GPD/LearningDM\n"
          ],
          "name": "stdout"
        }
      ]
    },
    {
      "cell_type": "markdown",
      "metadata": {
        "id": "EEnOk6MP_2q5"
      },
      "source": [
        "# Dataset"
      ]
    },
    {
      "cell_type": "markdown",
      "metadata": {
        "id": "ArisL2uf3FLD"
      },
      "source": [
        "Variables"
      ]
    },
    {
      "cell_type": "code",
      "metadata": {
        "id": "IBEQ35UB2sXM"
      },
      "source": [
        "len_Q = 5                   # n_samples to be evaluated\n",
        "CV = 5                      # number of cross-validation\n",
        "test_size = 0.2             # 80% train and 20% test\n",
        "accepted_error = .05        # max tau distance accepted between current ranking and the predicted one"
      ],
      "execution_count": 5,
      "outputs": []
    },
    {
      "cell_type": "markdown",
      "metadata": {
        "id": "G_xgWeEw3G0c"
      },
      "source": [
        "Dataset"
      ]
    },
    {
      "cell_type": "code",
      "metadata": {
        "id": "XqadhHnB2sfp"
      },
      "source": [
        "# Decision variables\n",
        "df_var = pd.read_csv(\"Data/NSGAIII_GPD03_M2_DEC.CSV\", header=None)      # decision variables\n",
        "df_obj = pd.read_csv('Data/NSGAIII_GPD03_M2_OBJ.CSV', header=None)      # values in Pareto front\n",
        "\n",
        "npop, nvar = df_var.shape\n",
        "nobj = df_obj.shape[1]"
      ],
      "execution_count": 6,
      "outputs": []
    },
    {
      "cell_type": "markdown",
      "metadata": {
        "id": "z8BjHCFvuvX-"
      },
      "source": [
        "# Functions"
      ]
    },
    {
      "cell_type": "markdown",
      "metadata": {
        "id": "snje4IXUvI_G"
      },
      "source": [
        "## Preference functions"
      ]
    },
    {
      "cell_type": "code",
      "metadata": {
        "id": "jo_PIlOiu3jW"
      },
      "source": [
        "# Define Saaty's 1-9 Scale for AHP Preference\n",
        "def matrix_intervalos(A):\n",
        "    max_A = np.max(A, axis=0)\n",
        "    min_A = np.min(A, axis=0)\n",
        "    I = np.zeros(shape=(9, len(max_A)))\n",
        "    for i, (menor, maior) in enumerate(zip(min_A, max_A)):\n",
        "        intervalos = np.linspace(menor, maior, 9)\n",
        "        I[:, i] = intervalos.ravel()\n",
        "    return I"
      ],
      "execution_count": 7,
      "outputs": []
    },
    {
      "cell_type": "code",
      "metadata": {
        "id": "WLNwFl2Mu4Vl"
      },
      "source": [
        "# Calculate the differences among the nominal values of the objectives\n",
        "def my_cdist(df_obj):\n",
        "  n_row = df_obj.shape[0]\n",
        "  m1 = np.tile(df_obj, (n_row, 1))\n",
        "  m2 = np.tile(df_obj.reshape(-1, 1), (1, n_row))\n",
        "  return m2 - m1"
      ],
      "execution_count": 8,
      "outputs": []
    },
    {
      "cell_type": "code",
      "metadata": {
        "id": "zc5k3b-au4YW"
      },
      "source": [
        "# Calculate the preferences\n",
        "def preferencia(df_dif, interval):\n",
        "\n",
        "    df_pref = np.ones(shape = df_dif.shape)\n",
        "\n",
        "    it = np.nditer(df_dif, flags=['multi_index'])\n",
        "\n",
        "    for x in it:\n",
        "        for j, _ in enumerate(interval):\n",
        "            if j == len(interval):\n",
        "                df_pref[it.multi_index] = 9 if x < 0 else 1.0 / 9.0\n",
        "                # df_pref[it.multi_index] = 1.0 / 9.0 if x > 0 else 9\n",
        "                break\n",
        "\n",
        "            if interval[j] <= np.abs(x) <= interval[j + 1]:\n",
        "                df_pref[it.multi_index] = 1.0 / (j + 1) if x < 0 else j + 1\n",
        "                # df_pref[it.multi_index] = j+1 if x > 0 else 1.0 / (j + 1)\n",
        "                break\n",
        "    return df_pref.round(3)"
      ],
      "execution_count": 9,
      "outputs": []
    },
    {
      "cell_type": "code",
      "metadata": {
        "id": "Rvj2qx_Fu4bQ"
      },
      "source": [
        "def notas_pref(A):\n",
        "  df_pref  = pd.DataFrame()\n",
        "  I = matrix_intervalos(A)\n",
        "\n",
        "  # For each objective\n",
        "  for i, sol in enumerate(A.T):\n",
        "    # Calculate the difference among the values\n",
        "    df_dif = my_cdist(sol)\n",
        "    # Get the intervals\n",
        "    interval = I[:, i]\n",
        "    # Generate the PC matrices\n",
        "    pp = pd.DataFrame(preferencia(df_dif, interval), index = None)\n",
        "\n",
        "    df_pref = pd.concat([df_pref, pp], axis=1)\n",
        "    \n",
        "  return df_pref"
      ],
      "execution_count": 10,
      "outputs": []
    },
    {
      "cell_type": "markdown",
      "metadata": {
        "id": "KWTeh1kqvDnj"
      },
      "source": [
        "## Data preparation"
      ]
    },
    {
      "cell_type": "code",
      "metadata": {
        "id": "AI2AZtkavCXl"
      },
      "source": [
        "def create_subsample(df_var, df_pref, nobj, index):\n",
        "  '''\n",
        "  Create sub-dataframes with the features (alternatives) and target (value in the objective space). \n",
        "  '''\n",
        "  # Create a df_aux that receive the features concatenated (objectives) and targets (preference)\n",
        "  sub_df = pd.DataFrame(np.zeros((len(index), df_var.shape[1]*2 + nobj)))\n",
        "\n",
        "  cont = 0\n",
        "  for i in index:\n",
        "    for j in index:\n",
        "      # Concatenate the two rows - i.e. values of the objectives and the preference between the two objectives\n",
        "      sub_df.loc[cont] = pd.concat([df_var.loc[i], df_var.loc[j], \\\n",
        "                                    df_pref.loc[i, j]], axis = 0, ignore_index = True) \n",
        "      cont += 1\n",
        "\n",
        "  return sub_df"
      ],
      "execution_count": 11,
      "outputs": []
    },
    {
      "cell_type": "code",
      "metadata": {
        "id": "OjDEerauESBe"
      },
      "source": [
        "def merge_matrices(idx_N_Q, preference_matrix, ml_predicted, nobj, npop):\n",
        "    '''\n",
        "    Replace the predicted values in the preference matrix to calculate \n",
        "    if the rankings (predicted vs preference) are equal or not.\n",
        "    '''\n",
        "    df_merged = preference_matrix.copy()\n",
        "    for col in range(nobj):\n",
        "        row = 0\n",
        "    for s1 in idx_N_Q:\n",
        "        for s2 in idx_N_Q:\n",
        "            df_merged.iloc[s1, s2+npop*col] = ml_predicted.loc[row, col]\n",
        "            row+= 1\n",
        "    return df_merged"
      ],
      "execution_count": 12,
      "outputs": []
    },
    {
      "cell_type": "markdown",
      "metadata": {
        "id": "uE9SqHqGEWVc"
      },
      "source": [
        "## Hyper parameters"
      ]
    },
    {
      "cell_type": "code",
      "metadata": {
        "id": "Eh12TV3SEYQl"
      },
      "source": [
        "def fine_tunning(CV, X, y):\n",
        "    \"\"\"\n",
        "    Search the best parameters for the Gradient Boosting Regressor model.\n",
        "    \"\"\"\n",
        "    model = MultiOutputRegressor(GradientBoostingRegressor(loss='ls', \n",
        "                                                            learning_rate=0.001, \n",
        "                                                            n_estimators=500, \n",
        "                                                            subsample=1.0,\n",
        "                                                            criterion='friedman_mse', \n",
        "                                                            min_samples_split=10,\n",
        "                                                            min_samples_leaf=1,\n",
        "                                                            min_weight_fraction_leaf=0.0, \n",
        "                                                            max_depth=30,\n",
        "                                                            min_impurity_decrease=0.0,\n",
        "                                                            min_impurity_split=None, \n",
        "                                                            init=None, \n",
        "                                                            random_state= 42,\n",
        "                                                            max_features=None,\n",
        "                                                            alpha=0.9, \n",
        "                                                            verbose=0, \n",
        "                                                            max_leaf_nodes=None, \n",
        "                                                            warm_start=False,\n",
        "                                                            validation_fraction=0.1, \n",
        "                                                            n_iter_no_change=None, \n",
        "                                                            tol=0.0001,\n",
        "                                                            ccp_alpha=0.0))\n",
        "\n",
        "    hyperparameters = dict(estimator__learning_rate=[0.05], \n",
        "                            estimator__loss=['ls'],\n",
        "                            estimator__n_estimators=[500, 1000],\n",
        "                            estimator__criterion=['friedman_mse'], \n",
        "                            estimator__min_samples_split=[7, 10],\n",
        "                            estimator__max_depth=[15, 30], \n",
        "                            estimator__min_samples_leaf=[1, 2],\n",
        "                            estimator__min_impurity_decrease=[0],\n",
        "                            estimator__max_leaf_nodes=[5, 30])\n",
        "\n",
        "    randomized_search = RandomizedSearchCV(model, \n",
        "                                            hyperparameters, \n",
        "                                            random_state=42, \n",
        "                                            n_iter=5, \n",
        "                                            scoring=None,\n",
        "                                            n_jobs=-1, \n",
        "                                            refit=True, \n",
        "                                            cv=CV, \n",
        "                                            verbose=True,\n",
        "                                            pre_dispatch='2*n_jobs', \n",
        "                                            error_score='raise', \n",
        "                                            return_train_score=True)\n",
        "\n",
        "    hyperparameters_tuning = randomized_search.fit(X, y)\n",
        "\n",
        "    tuned_model = hyperparameters_tuning.best_estimator_\n",
        "\n",
        "    return tuned_model"
      ],
      "execution_count": 13,
      "outputs": []
    },
    {
      "cell_type": "markdown",
      "metadata": {
        "id": "8EM-9XaYxQWM"
      },
      "source": [
        "## Metrics"
      ]
    },
    {
      "cell_type": "code",
      "metadata": {
        "id": "zd3cAGayvCoS"
      },
      "source": [
        "def mean_absolute_percentage_error(y_true, y_pred): \n",
        "    y_true, y_pred = np.array(y_true), np.array(y_pred)\n",
        "    return np.mean(np.abs((y_true - y_pred) / y_true))"
      ],
      "execution_count": 14,
      "outputs": []
    },
    {
      "cell_type": "markdown",
      "metadata": {
        "id": "330f6iXD2irP"
      },
      "source": [
        "## AHP"
      ]
    },
    {
      "cell_type": "code",
      "metadata": {
        "id": "nuqLlbTk2h0V"
      },
      "source": [
        "# AHP\n",
        "def ahp(df):\n",
        "  return ((df / df.apply('sum', axis = 0)).apply(\"sum\", axis = 1)).sort_values(ascending=False)"
      ],
      "execution_count": 15,
      "outputs": []
    },
    {
      "cell_type": "markdown",
      "metadata": {
        "id": "CNCW-xQGnMfZ"
      },
      "source": [
        "## Tau distance"
      ]
    },
    {
      "cell_type": "code",
      "metadata": {
        "id": "AWX_h_ROuu5M"
      },
      "source": [
        "# Tau distance\n",
        "def tau_distance(r1, r2):\n",
        "  '''\n",
        "  Values close to 1 indicate strong agreement, \n",
        "  and values close to -1 indicate strong disagreement.\n",
        "  '''\n",
        "  tau, p_value = stats.kendalltau(r1, r2)\n",
        "  return tau\n",
        "\n",
        "def normalised_kendall_tau_distance(r1, r2):\n",
        "    \"\"\"\n",
        "    Compute the normalized Kendall tau distance.\n",
        "    \"\"\"\n",
        "    n = len(r1)\n",
        "    assert len(r2) == n, \"Both lists have to be of equal length\"\n",
        "    i, j = np.meshgrid(np.arange(n), np.arange(n))\n",
        "    a = np.argsort(r1)\n",
        "    b = np.argsort(r2)\n",
        "    ndisordered = np.logical_or(np.logical_and(a[i] < a[j], b[i] > b[j]), np.logical_and(a[i] > a[j], b[i] < b[j])).sum()\n",
        "    return ndisordered / (n * (n - 1))"
      ],
      "execution_count": 16,
      "outputs": []
    },
    {
      "cell_type": "markdown",
      "metadata": {
        "id": "BuX3IFL6Ln6a"
      },
      "source": [
        "# Main "
      ]
    },
    {
      "cell_type": "code",
      "metadata": {
        "id": "iABECB3MXmkr"
      },
      "source": [
        "# Generate the preferences\n",
        "df_obj = df_obj.to_numpy()\n",
        "df_pref = notas_pref(df_obj)\n",
        "\n",
        "# AHP from the original alternatives\n",
        "rank_ahp = ahp(df_pref).index"
      ],
      "execution_count": 17,
      "outputs": []
    },
    {
      "cell_type": "code",
      "metadata": {
        "id": "f6NHku8FUdN8"
      },
      "source": [
        "# Generate the index to be evaluated\n",
        "index = list(df_var.index)\n",
        "\n",
        "# Aleatory ranking\n",
        "aleatory = index.copy()\n",
        "random.shuffle(aleatory)\n",
        "\n",
        "# Start an aleatory ranking\n",
        "rank_aleatory = aleatory.copy()"
      ],
      "execution_count": 18,
      "outputs": []
    },
    {
      "cell_type": "code",
      "metadata": {
        "id": "8dzG8jYbEaw2",
        "colab": {
          "base_uri": "https://localhost:8080/",
          "height": 1000
        },
        "outputId": "603bcd58-0cea-4fb5-ed72-e2a859941400"
      },
      "source": [
        "# Distancias\n",
        "current_previous = []\n",
        "current_ahp = []\n",
        "\n",
        "# Metrics\n",
        "mse = []\n",
        "rmse = []\n",
        "r2 = []\n",
        "mape = []\n",
        "\n",
        "# Iterations\n",
        "iteration = []\n",
        "itera = 0\n",
        "\n",
        "temp = 1\n",
        "for aux in tqdm(range(len_Q, npop, len_Q)):\n",
        "    itera += 1\n",
        "\n",
        "    # Define Q and N-Q indexes\n",
        "    Q_index = rank_aleatory[0:aux]\n",
        "    N_Q_index = [x for x in index if x not in Q_index]\n",
        "\n",
        "    # Train\n",
        "    df_Q = create_subsample(df_var = df_var, df_pref = df_pref, nobj = nobj, index = Q_index)\n",
        "    X_train = df_Q.iloc[:,:-nobj]  # to predict\n",
        "    y_train = df_Q.iloc[:,-nobj:]  # real targets\n",
        "    # Test\n",
        "    df_N_Q = create_subsample(df_var = df_var, df_pref = df_pref, nobj = nobj, index = N_Q_index)\n",
        "    X_test = df_N_Q.iloc[:,:-nobj]  # to predict\n",
        "    y_test = df_N_Q.iloc[:,-nobj:]  # real targets\n",
        "\n",
        "    # Model training\n",
        "    # tuned_model.fit(X_train, y_train)\n",
        "    # Fine tunning in the 1st iteration\n",
        "    if temp > accepted_error:\n",
        "        tuned_model = fine_tunning(CV, X_train, y_train)\n",
        "        with open(\"tuned_model_cbic.pkl\", 'wb') as arq:      # Save best model\n",
        "            pickle.dump(tuned_model, arq)\n",
        "        tuned_model.fit(X_train, y_train)\n",
        "    else:\n",
        "        with open(\"tuned_model_cbic.pkl\", \"rb\") as fp:       # Load trained model\n",
        "            tuned_model = pickle.load(fp)                        \n",
        "    # # Model training\n",
        "    # tuned_model.fit(X_train, y_train)\n",
        "\n",
        "    # Model evaluation\n",
        "    y_pred = tuned_model.predict(X_test)\n",
        "    y_pred = pd.DataFrame(y_pred)\n",
        "\n",
        "    # Metrics\n",
        "    mse.append(mean_squared_error(pd.DataFrame(y_test.values), pd.DataFrame(y_pred.values), squared = True))\n",
        "    rmse.append(mean_squared_error(pd.DataFrame(y_test.values), pd.DataFrame(y_pred.values), squared = False))\n",
        "    r2.append(r2_score(pd.DataFrame(y_test.values), pd.DataFrame(y_pred.values)))\n",
        "    mape.append(mean_absolute_percentage_error(pd.DataFrame(y_test.values), pd.DataFrame(y_pred.values)))\n",
        "\n",
        "    # Merge the predictions of the df train and df test\n",
        "    df_merged = merge_matrices(N_Q_index, df_pref, y_pred, nobj, npop)\n",
        "\n",
        "    # Employ AHP in the predicted (mixed with preferences) dataset\n",
        "    rank_predicted = ahp(df_merged).index\n",
        "\n",
        "    # Calculate distances\n",
        "    temp = normalised_kendall_tau_distance(r1 = rank_aleatory, r2 = rank_predicted)\n",
        "    current_previous.append(temp)\n",
        "    current_ahp.append(normalised_kendall_tau_distance(r1 = rank_ahp, r2 = rank_predicted))\n",
        "\n",
        "    df_obj = pd.DataFrame(df_obj)\n",
        "    plt.scatter(df_obj.loc[:, 0], df_obj.loc[:, 1], color='b')                                                          #available\n",
        "    plt.scatter(df_obj.loc[rank_predicted[0:aux], 0], df_obj.loc[rank_predicted[0:aux], 1], color='r', marker='^')      #top ranked\n",
        "    plt.scatter(df_obj.loc[rank_ahp[0:aux], 0], df_obj.loc[rank_ahp[0:aux], 1], color='g', marker='*')                  #ahp\n",
        "    plt.legend([\"Available\",\"Top ranked\", 'AHP'])\n",
        "    plt.show()\n",
        "\n",
        "    # Update the ranking\n",
        "    rank_aleatory = rank_predicted\n",
        "\n",
        "    # Storage the iterations\n",
        "    iteration.append(itera)"
      ],
      "execution_count": null,
      "outputs": [
        {
          "output_type": "stream",
          "text": [
            "\r  0%|          | 0/39 [00:00<?, ?it/s]"
          ],
          "name": "stderr"
        },
        {
          "output_type": "stream",
          "text": [
            "Fitting 5 folds for each of 5 candidates, totalling 25 fits\n"
          ],
          "name": "stdout"
        },
        {
          "output_type": "stream",
          "text": [
            "[Parallel(n_jobs=-1)]: Using backend LokyBackend with 2 concurrent workers.\n",
            "[Parallel(n_jobs=-1)]: Done  25 out of  25 | elapsed:   10.6s finished\n"
          ],
          "name": "stderr"
        },
        {
          "output_type": "display_data",
          "data": {
            "image/png": "[encoded data removed]",
            "text/plain": [
              "<Figure size 432x288 with 1 Axes>"
            ]
          },
          "metadata": {
            "needs_background": "light"
          }
        },
        {
          "output_type": "stream",
          "text": [
            "\r  3%|▎         | 1/39 [02:59<1:53:34, 179.34s/it]"
          ],
          "name": "stderr"
        },
        {
          "output_type": "stream",
          "text": [
            "Fitting 5 folds for each of 5 candidates, totalling 25 fits\n"
          ],
          "name": "stdout"
        },
        {
          "output_type": "stream",
          "text": [
            "[Parallel(n_jobs=-1)]: Using backend LokyBackend with 2 concurrent workers.\n",
            "[Parallel(n_jobs=-1)]: Done  25 out of  25 | elapsed:    8.9s finished\n"
          ],
          "name": "stderr"
        },
        {
          "output_type": "display_data",
          "data": {
            "image/png": "[encoded data removed]",
            "text/plain": [
              "<Figure size 432x288 with 1 Axes>"
            ]
          },
          "metadata": {
            "needs_background": "light"
          }
        },
        {
          "output_type": "stream",
          "text": [
            "\r  5%|▌         | 2/39 [05:51<1:47:59, 175.12s/it]"
          ],
          "name": "stderr"
        },
        {
          "output_type": "stream",
          "text": [
            "Fitting 5 folds for each of 5 candidates, totalling 25 fits\n"
          ],
          "name": "stdout"
        },
        {
          "output_type": "stream",
          "text": [
            "[Parallel(n_jobs=-1)]: Using backend LokyBackend with 2 concurrent workers.\n",
            "[Parallel(n_jobs=-1)]: Done  25 out of  25 | elapsed:    8.6s finished\n"
          ],
          "name": "stderr"
        },
        {
          "output_type": "display_data",
          "data": {
            "image/png": "[encoded data removed]",
            "text/plain": [
              "<Figure size 432x288 with 1 Axes>"
            ]
          },
          "metadata": {
            "needs_background": "light"
          }
        },
        {
          "output_type": "stream",
          "text": [
            "\r  8%|▊         | 3/39 [08:25<1:39:22, 165.61s/it]"
          ],
          "name": "stderr"
        },
        {
          "output_type": "stream",
          "text": [
            "Fitting 5 folds for each of 5 candidates, totalling 25 fits\n"
          ],
          "name": "stdout"
        },
        {
          "output_type": "stream",
          "text": [
            "[Parallel(n_jobs=-1)]: Using backend LokyBackend with 2 concurrent workers.\n",
            "[Parallel(n_jobs=-1)]: Done  25 out of  25 | elapsed:   21.3s finished\n"
          ],
          "name": "stderr"
        },
        {
          "output_type": "display_data",
          "data": {
            "image/png": "[encoded data removed]",
            "text/plain": [
              "<Figure size 432x288 with 1 Axes>"
            ]
          },
          "metadata": {
            "needs_background": "light"
          }
        },
        {
          "output_type": "stream",
          "text": [
            "\r 10%|█         | 4/39 [11:12<1:36:45, 165.87s/it]"
          ],
          "name": "stderr"
        },
        {
          "output_type": "stream",
          "text": [
            "Fitting 5 folds for each of 5 candidates, totalling 25 fits\n"
          ],
          "name": "stdout"
        },
        {
          "output_type": "stream",
          "text": [
            "[Parallel(n_jobs=-1)]: Using backend LokyBackend with 2 concurrent workers.\n",
            "[Parallel(n_jobs=-1)]: Done  25 out of  25 | elapsed:   37.2s finished\n"
          ],
          "name": "stderr"
        },
        {
          "output_type": "display_data",
          "data": {
            "image/png": "[encoded data removed]",
            "text/plain": [
              "<Figure size 432x288 with 1 Axes>"
            ]
          },
          "metadata": {
            "needs_background": "light"
          }
        },
        {
          "output_type": "stream",
          "text": [
            "\r 13%|█▎        | 5/39 [13:59<1:34:20, 166.48s/it]"
          ],
          "name": "stderr"
        },
        {
          "output_type": "stream",
          "text": [
            "Fitting 5 folds for each of 5 candidates, totalling 25 fits\n"
          ],
          "name": "stdout"
        },
        {
          "output_type": "stream",
          "text": [
            "[Parallel(n_jobs=-1)]: Using backend LokyBackend with 2 concurrent workers.\n",
            "[Parallel(n_jobs=-1)]: Done  25 out of  25 | elapsed:   40.1s finished\n"
          ],
          "name": "stderr"
        },
        {
          "output_type": "display_data",
          "data": {
            "image/png": "[encoded data removed]",
            "text/plain": [
              "<Figure size 432x288 with 1 Axes>"
            ]
          },
          "metadata": {
            "needs_background": "light"
          }
        },
        {
          "output_type": "stream",
          "text": [
            "\r 15%|█▌        | 6/39 [16:47<1:31:49, 166.95s/it]"
          ],
          "name": "stderr"
        }
      ]
    },
    {
      "cell_type": "code",
      "metadata": {
        "id": "4HJYcLPIcu8B"
      },
      "source": [
        "# Merge the results\n",
        "results = pd.DataFrame({'Iteration': iteration,\n",
        "                        'MSE': mse, \n",
        "                        'RMSE': rmse, \n",
        "                        'R2': r2, \n",
        "                        'MAPE': mape,\n",
        "                        'Current_Previous': current_previous, \n",
        "                        'Current_AHP': current_ahp})\n",
        "\n",
        "results_metrics = results[['Iteration', 'MSE', 'RMSE', 'R2', 'MAPE']]\n",
        "results_tau = results[['Iteration', 'Current_Previous', 'Current_AHP']]"
      ],
      "execution_count": null,
      "outputs": []
    },
    {
      "cell_type": "code",
      "metadata": {
        "id": "_lh-rXMIdJsP"
      },
      "source": [
        "fig, ax = plt.subplots()\n",
        "sns.lineplot(x = 'Iteration', \n",
        "             y = 'value', \n",
        "             hue = 'variable', \n",
        "             data = pd.melt(results_metrics, \"Iteration\"))\n",
        "ax.legend([\"MSE\", \"RMSE\", 'R2', 'MAPE'])\n",
        "plt.ylabel(\"Error\")\n",
        "plt.show()"
      ],
      "execution_count": null,
      "outputs": []
    },
    {
      "cell_type": "code",
      "metadata": {
        "id": "OTdiHc1ogoT-"
      },
      "source": [
        "fig, ax = plt.subplots()\n",
        "sns.lineplot(x = 'Iteration', \n",
        "             y = 'value', \n",
        "             hue = 'variable', \n",
        "             data = pd.melt(results_tau, \"Iteration\"))\n",
        "ax.legend([\"Current vs Previous\", 'Current vs AHP'])\n",
        "ax.set_ylim(0, 1)\n",
        "plt.ylabel(\"Error\")\n",
        "plt.axhline(y=.05, ls=':', color='red', marker='*')\n",
        "plt.show()"
      ],
      "execution_count": null,
      "outputs": []
    },
    {
      "cell_type": "code",
      "metadata": {
        "id": "BULWCujSLX_k"
      },
      "source": [
        "itera"
      ],
      "execution_count": null,
      "outputs": []
    },
    {
      "cell_type": "markdown",
      "metadata": {
        "id": "PRmJtzfvwjN0"
      },
      "source": [
        "# Select top10 to plot"
      ]
    },
    {
      "cell_type": "code",
      "metadata": {
        "id": "51tHzQX4wsZp"
      },
      "source": [
        "top10_pred = rank_predicted[0:10]"
      ],
      "execution_count": null,
      "outputs": []
    },
    {
      "cell_type": "code",
      "metadata": {
        "id": "BfkdpD08tXW1"
      },
      "source": [
        "select_top10 = pd.DataFrame(df_obj)"
      ],
      "execution_count": null,
      "outputs": []
    },
    {
      "cell_type": "code",
      "metadata": {
        "id": "QLwZGClqtxKc"
      },
      "source": [
        "select_top10 = select_top10.iloc[top10_pred, :]"
      ],
      "execution_count": null,
      "outputs": []
    },
    {
      "cell_type": "code",
      "metadata": {
        "id": "s1vJm6ZO-Tg1"
      },
      "source": [
        "select_top10.round(4)"
      ],
      "execution_count": null,
      "outputs": []
    },
    {
      "cell_type": "code",
      "metadata": {
        "id": "QyDXyseluI2I"
      },
      "source": [
        "# select_top10.to_csv(\"cbic_5amostras.csv\", index=None)"
      ],
      "execution_count": null,
      "outputs": []
    },
    {
      "cell_type": "markdown",
      "metadata": {
        "id": "aosVHe70RbpB"
      },
      "source": [
        "# Rascunhos de código"
      ]
    },
    {
      "cell_type": "code",
      "metadata": {
        "id": "TkTwwhnIRi9O"
      },
      "source": [
        "aaa"
      ],
      "execution_count": null,
      "outputs": []
    },
    {
      "cell_type": "code",
      "metadata": {
        "id": "y_sRiCnxRh1_"
      },
      "source": [
        "# Plota pareto front para 3 objetivos\n",
        "fig = pyplot.figure()\n",
        "ax = Axes3D(fig)\n",
        "df_obj = pd.DataFrame(df_obj)\n",
        "ax.scatter(df_obj.loc[:, 0], df_obj.loc[:, 1], color='b')                                                          #available\n",
        "ax.scatter(df_obj.loc[rank_predicted[0:aux], 0], df_obj.loc[rank_predicted[0:aux], 1], color='r', marker='^')      #top ranked\n",
        "ax.scatter(df_obj.loc[rank_ahp[0:aux], 0], df_obj.loc[rank_ahp[0:aux], 1], color='g', marker='*')                  #ahp\n",
        "ax.legend([\"Available\",\"Top ranked\", 'AHP'])\n",
        "pyplot.show()"
      ],
      "execution_count": null,
      "outputs": []
    },
    {
      "cell_type": "markdown",
      "metadata": {
        "id": "WBmykqggeM1i"
      },
      "source": [
        "# References\n",
        "\n",
        "- Multiclass and multioutput algorithms -- https://scikit-learn.org/stable/modules/multiclass.html#multioutput-regression\n",
        "- sklearn.model_selection.RandomizedSearchCV -- https://scikit-learn.org/stable/modules/generated/sklearn.model_selection.RandomizedSearchCV.html\n",
        "- sklearn.ensemble.GradientBoostingRegressor -- https://scikit-learn.org/stable/modules/generated/sklearn.ensemble.GradientBoostingRegressor.html\n",
        "- sklearn.model_selection.train_test_split -- https://scikit-learn.org/stable/modules/generated/sklearn.model_selection.train_test_split.html\n",
        "- AHP an example -- https://github.com/ani-rudra-chan/AHP-Python-Project/blob/master/ahp.ipynb"
      ]
    },
    {
      "cell_type": "code",
      "metadata": {
        "id": "FlzWyq2UMP0K"
      },
      "source": [
        ""
      ],
      "execution_count": null,
      "outputs": []
    }
  ]
}